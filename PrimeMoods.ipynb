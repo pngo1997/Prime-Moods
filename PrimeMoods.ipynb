{
 "cells": [
  {
   "cell_type": "markdown",
   "id": "45c47881-aae0-46ed-9cdb-3a3a75074de7",
   "metadata": {},
   "source": [
    "#### How my code knows when to stop when operating on a sad number:"
   ]
  },
  {
   "cell_type": "markdown",
   "id": "51ff9615-d149-4548-809c-c47fdf5dbd27",
   "metadata": {},
   "source": [
    "Since I append all previous sum result in a set() data structure - store unique data. \\\n",
    "This also include the original sum. If new calculated sum is equal to one of value in set(). The function would stop and will return as sad number. "
   ]
  },
  {
   "cell_type": "markdown",
   "id": "5727aa7c-2c32-4d42-9bc9-d4192d68812f",
   "metadata": {},
   "source": [
    "#### Show how I implement top-down method:"
   ]
  },
  {
   "cell_type": "markdown",
   "id": "7d193a00-1bb9-4320-b11c-451713af4d3a",
   "metadata": {},
   "source": [
    "main():\n",
    " * whatsUp() \n",
    " * askInput(): flow-in (n) \n",
    " * giveAns(): flow-in (n), flow-out (result)\n",
    "     - isPrime(): flow-in (n), flow-out (T/F)\n",
    "     - isHappy(): flow-in (n, sum(n)), flow-out (T/F)\n",
    "         * breakDown(): flow-in (n), flow-out(sum(n))\n",
    " * wishExit(): flow-in: result"
   ]
  },
  {
   "cell_type": "code",
   "execution_count": 149,
   "id": "851ed3bd-0797-446d-871d-29035d18bc22",
   "metadata": {},
   "outputs": [],
   "source": [
    "def whatsUp(): \n",
    "    '''Greeting users entering the program and giving introduction.'''\n",
    "    \n",
    "    print(\"Welcome to HAPPY PRIME!\")\n",
    "    print(\"A little introduction: You will give us a positive integer and we will do some calculations...\")\n",
    "    print(\"Then we will let you know whether it is a sad/happy prime or sad/happy non-prime number.\")\n",
    "    #Greet users and give a brief introduction about the program."
   ]
  },
  {
   "cell_type": "code",
   "execution_count": 16,
   "id": "ba215447-1dc3-4c9a-93f6-0254fb9a4a97",
   "metadata": {},
   "outputs": [],
   "source": [
    "def askInput():\n",
    "    '''Asking users to give one postive integer.'''\n",
    "    \n",
    "    n = int(eval(input(\"Please input a positive integer:\")))\n",
    "    #Asking user to input an integer, following with a prompt to guide users answering input.\n",
    "    #Using \"eval\" to convert string to number.\n",
    "    #Using \"int\" incase users enter rational number. Round down: 3.9 will be 3\n",
    "    \n",
    "    while True:\n",
    "    #Using infinite loop pattern to keep asking user incase the entered number doesn't meet requirement.\n",
    "    \n",
    "        if n > 0:\n",
    "        #Verify if entered number is greater than 0.\n",
    "            break \n",
    "            #Stop the loop if satisfy conditions.\n",
    "            \n",
    "        else: n = int(eval(input(\"Entered value is not acceptable. Please enter POSITIVE integer:\")))\n",
    "        #If not satisfied the conditions, user will be asked again to enter number correctly.\n",
    "        \n",
    "    return n "
   ]
  },
  {
   "cell_type": "code",
   "execution_count": 150,
   "id": "0bdc9055-fa90-4d45-882c-09b9d71c0d77",
   "metadata": {},
   "outputs": [],
   "source": [
    "def isPrime(n):\n",
    "    '''Test whether given number n is a prime number.'''\n",
    "    import math\n",
    "    #Give access to the math module.\n",
    "    #At this point n is an integer.\n",
    "    \n",
    "    if n == 2:\n",
    "        return True\n",
    "        #2 is a prime number. \n",
    "        \n",
    "    if n % 2 == 0 or n < 2: \n",
    "        return False\n",
    "        #If the number is even (divisible by 2), or less than 2 (would be 1). These are not prime numbers.\n",
    "        \n",
    "    for i in range(3, int(math.sqrt(n)+1), 2):  \n",
    "    #Create a range from 3 to the square root of the number. \n",
    "    #Starting from 3 because we have examined if number <= 2.\n",
    "    #Taking square root of the number because incase of factor pair, one of the factors must be equal to or less than the number's square root.\n",
    "    #Taking plus 1 because Python round down for integer value.\n",
    "    #Using 2 steps in the range to only examine odd value, since we already examined even value.\n",
    "    \n",
    "        if n % i == 0:\n",
    "        #If the number is divisiable by any number in this range. It is not prime numbers.\n",
    "            return False \n",
    "        \n",
    "    return True\n",
    "    #If it is not divisible by any above factors, this is a prime number."
   ]
  },
  {
   "cell_type": "code",
   "execution_count": 42,
   "id": "0d6d0c7c-db59-4645-996a-e8a5b6ba57cd",
   "metadata": {},
   "outputs": [],
   "source": [
    "def breakDown(n):\n",
    "    '''Calculate the sum of the squares of the number's digits.'''\n",
    "    \n",
    "    n = str(n)\n",
    "    #Convert integer into string for index iteration.\n",
    "    numlst = []\n",
    "    #Create a list to store all squares of the number's digits.\n",
    "    \n",
    "    for i in range(len(n)):\n",
    "    #Index iteration over each digit of the number. \n",
    "        numlst.append(int(n[i])**2)  \n",
    "        #Calculate the square of each digit. \n",
    "        #Append to the list numlst.\n",
    "        \n",
    "    return sum(numlst)\n",
    "    #Return the sum of the squares of the number's digits."
   ]
  },
  {
   "cell_type": "code",
   "execution_count": 154,
   "id": "c3c06f4c-b170-460c-a4dc-0899dbc6150b",
   "metadata": {},
   "outputs": [],
   "source": [
    "def isHappy(n):\n",
    "    '''Check whether the number is Happy or Sad.'''\n",
    "    \n",
    "    num_set = set() \n",
    "    #Assign num_set variable using set() data structure. So that every stored data is unique.\n",
    "    \n",
    "    while n != 1:\n",
    "    #If the number (sum of all the squares of the number's digits) not equal 1.\n",
    "        n = breakDown(n)\n",
    "        #Calculate next sum using def breakDown().\n",
    "        if n in num_set:\n",
    "        #If the number is in num_set.\n",
    "            return False\n",
    "            #Indicate this is not a happy prime. New sum is similar with previsous sum result.\n",
    "        num_set.add(n)\n",
    "        #Add the new sum to num_set.  \n",
    "        #Add after because I need to check whether the number is already in num_set.\n",
    "        \n",
    "    return True\n",
    "    #In this case, the sum is equal 1. Thus, this is a happy number. "
   ]
  },
  {
   "cell_type": "code",
   "execution_count": 156,
   "id": "310b81d0-0ffb-4330-b883-bb98e383397a",
   "metadata": {},
   "outputs": [],
   "source": [
    "def giveAns(num):\n",
    "    '''Give the final result: sad or happy, prime or non-prime number.'''\n",
    "    \n",
    "    if isPrime(num):\n",
    "    #Checking if this is a prime number. If satisfy, this is a prime number.\n",
    "        if isHappy(num):\n",
    "        #Checking if this is a happy number. If satisfy, this is a happy prime number.\n",
    "            print ('''{} is a HAPPY PRIME :)'''.format (num))\n",
    "            #Print corresponding output.\n",
    "        else: print ('''{} is a SAD PRIME :('''.format (num))\n",
    "        #In this case, this is a sad prime number. Print corresponding output.\n",
    "        \n",
    "    else: \n",
    "    #In this case, the number is non-prime.\n",
    "        if isHappy(num):\n",
    "        #Checking if this is a happy number. If satisfy, this is a happy non-prime number.\n",
    "            print ('''{} is a HAPPY NON-PRIME :)'''.format (num))\n",
    "            #Print corresponding output.\n",
    "        else: print ('''{} is a SAD NON-PRIME :('''.format (num)) \n",
    "        #In this case, this is a sad non-prime number. Print corresponding output."
   ]
  },
  {
   "cell_type": "code",
   "execution_count": 146,
   "id": "64b879f7-6c3c-475f-9f64-96a9e424572c",
   "metadata": {},
   "outputs": [],
   "source": [
    "def wishExit():\n",
    "    '''Asking user if they wish to exit or continue the program.'''\n",
    "    \n",
    "    choice = input('Please press any key to continue, or \"X\" to exit:')\n",
    "    #Asking user if they want to continue or exit to program.\n",
    "    \n",
    "    while choice not in 'Xx':\n",
    "    #If user choose to continue the program. This loop will keep repeating until user wish to exit. \n",
    "        number = askInput()\n",
    "        #Ask user for a new integer input. Assign to new variable number.\n",
    "        giveAns(number)\n",
    "        #Using giveAns() function to start over.\n",
    "        choice = input('Please press any key to continue, or \"X\" to exit:')\n",
    "        #Asking user again if they want to continue or exit to program.\n",
    "        \n",
    "    else: print (\"THE END. \\nThank you for joining!\")\n",
    "    #When user choose to exit the program.The end."
   ]
  },
  {
   "cell_type": "code",
   "execution_count": 158,
   "id": "081c7804-1656-43ca-8ddf-b866a820e0f6",
   "metadata": {},
   "outputs": [],
   "source": [
    "def main():\n",
    "    '''Main function links other functions.'''\n",
    "    welcome_message = whatsUp()\n",
    "    input_message = askInput()    \n",
    "    result = giveAns(input_message)\n",
    "    wonder = wishExit()"
   ]
  },
  {
   "cell_type": "code",
   "execution_count": 159,
   "id": "2103438c-7c0f-4c9f-aa43-3bd333319a8e",
   "metadata": {},
   "outputs": [
    {
     "name": "stdout",
     "output_type": "stream",
     "text": [
      "Welcome to HAPPY PRIME!\n",
      "A little introduction: You will give us a positive integer and we will do some calculations...\n",
      "Then we will let you know whether it is a sad/happy prime or sad/happy non-prime number.\n"
     ]
    },
    {
     "name": "stdin",
     "output_type": "stream",
     "text": [
      "Please input a positive integer: -6\n",
      "Entered value is not acceptable. Please enter POSITIVE integer: 0\n",
      "Entered value is not acceptable. Please enter POSITIVE integer: 1\n"
     ]
    },
    {
     "name": "stdout",
     "output_type": "stream",
     "text": [
      "1 is a HAPPY NON-PRIME :)\n"
     ]
    },
    {
     "name": "stdin",
     "output_type": "stream",
     "text": [
      "Please press any key to continue, or \"X\" to exit: m\n",
      "Please input a positive integer: 2\n"
     ]
    },
    {
     "name": "stdout",
     "output_type": "stream",
     "text": [
      "2 is a SAD PRIME :(\n"
     ]
    },
    {
     "name": "stdin",
     "output_type": "stream",
     "text": [
      "Please press any key to continue, or \"X\" to exit: a\n",
      "Please input a positive integer: 4\n"
     ]
    },
    {
     "name": "stdout",
     "output_type": "stream",
     "text": [
      "4 is a SAD NON-PRIME :(\n"
     ]
    },
    {
     "name": "stdin",
     "output_type": "stream",
     "text": [
      "Please press any key to continue, or \"X\" to exit: i\n",
      "Please input a positive integer: 7\n"
     ]
    },
    {
     "name": "stdout",
     "output_type": "stream",
     "text": [
      "7 is a HAPPY PRIME :)\n"
     ]
    },
    {
     "name": "stdin",
     "output_type": "stream",
     "text": [
      "Please press any key to continue, or \"X\" to exit: x\n"
     ]
    },
    {
     "name": "stdout",
     "output_type": "stream",
     "text": [
      "THE END. \n",
      "Thank you for joining!\n"
     ]
    }
   ],
   "source": [
    "main()"
   ]
  },
  {
   "cell_type": "code",
   "execution_count": 160,
   "id": "ab42f195-cbfb-4422-8a17-347031a7482b",
   "metadata": {},
   "outputs": [
    {
     "name": "stdout",
     "output_type": "stream",
     "text": [
      "Welcome to HAPPY PRIME!\n",
      "A little introduction: You will give us a positive integer and we will do some calculations...\n",
      "Then we will let you know whether it is a sad/happy prime or sad/happy non-prime number.\n"
     ]
    },
    {
     "name": "stdin",
     "output_type": "stream",
     "text": [
      "Please input a positive integer: 6.7\n"
     ]
    },
    {
     "name": "stdout",
     "output_type": "stream",
     "text": [
      "6 is a SAD NON-PRIME :(\n"
     ]
    },
    {
     "name": "stdin",
     "output_type": "stream",
     "text": [
      "Please press any key to continue, or \"X\" to exit: l\n",
      "Please input a positive integer: 19\n"
     ]
    },
    {
     "name": "stdout",
     "output_type": "stream",
     "text": [
      "19 is a HAPPY PRIME :)\n"
     ]
    },
    {
     "name": "stdin",
     "output_type": "stream",
     "text": [
      "Please press any key to continue, or \"X\" to exit: u\n",
      "Please input a positive integer: 17\n"
     ]
    },
    {
     "name": "stdout",
     "output_type": "stream",
     "text": [
      "17 is a SAD PRIME :(\n"
     ]
    },
    {
     "name": "stdin",
     "output_type": "stream",
     "text": [
      "Please press any key to continue, or \"X\" to exit: k\n",
      "Please input a positive integer: 4\n"
     ]
    },
    {
     "name": "stdout",
     "output_type": "stream",
     "text": [
      "4 is a SAD NON-PRIME :(\n"
     ]
    },
    {
     "name": "stdin",
     "output_type": "stream",
     "text": [
      "Please press any key to continue, or \"X\" to exit: e\n",
      "Please input a positive integer: 11\n"
     ]
    },
    {
     "name": "stdout",
     "output_type": "stream",
     "text": [
      "11 is a SAD PRIME :(\n"
     ]
    },
    {
     "name": "stdin",
     "output_type": "stream",
     "text": [
      "Please press any key to continue, or \"X\" to exit: X\n"
     ]
    },
    {
     "name": "stdout",
     "output_type": "stream",
     "text": [
      "THE END. \n",
      "Thank you for joining!\n"
     ]
    }
   ],
   "source": [
    "main()"
   ]
  }
 ],
 "metadata": {
  "kernelspec": {
   "display_name": "Python 3 (ipykernel)",
   "language": "python",
   "name": "python3"
  },
  "language_info": {
   "codemirror_mode": {
    "name": "ipython",
    "version": 3
   },
   "file_extension": ".py",
   "mimetype": "text/x-python",
   "name": "python",
   "nbconvert_exporter": "python",
   "pygments_lexer": "ipython3",
   "version": "3.9.13"
  }
 },
 "nbformat": 4,
 "nbformat_minor": 5
}
